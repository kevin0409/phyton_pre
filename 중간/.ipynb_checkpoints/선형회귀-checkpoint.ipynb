{
 "cells": [
  {
   "cell_type": "code",
   "execution_count": 1,
   "metadata": {
    "scrolled": true
   },
   "outputs": [],
   "source": [
    "import math\n",
    "f = open('./Simple_Linear_Regression_Practice_Data.txt','r',encoding='utf-8')\n",
    "data = f.readlines()\n",
    "    \n",
    "f.close()\n",
    "x_ts = []\n",
    "x_tr = []\n",
    "y_ts = []\n",
    "y_tr = []\n",
    "xy_list = []\n",
    "data_x = []\n",
    "data_y = []\n",
    "for r in range(0, len(data)):\n",
    "    xy_list.append(data[r].split('\\t'))\n",
    "    xy_list[r][1]=xy_list[r][1].replace('\"','').replace(',','.')\n",
    "    \n",
    "for i in range(1, len(xy_list)):\n",
    "    xy_list[0][1]=xy_list[0][1].rstrip()\n",
    "    xy_list[i][0]= int(xy_list[i][0])\n",
    "    xy_list[i][1]= float(xy_list[i][1])\n",
    "    \n",
    "for r in range(1, len(xy_list)):\n",
    "    data_x.append(xy_list[r][0])\n",
    "    data_y.append(xy_list[r][1])   \n",
    "\n",
    "tr = math.floor(len(xy_list)*70/100)\n",
    "\n",
    "x_tr = data_x[0:tr]\n",
    "x_ts = data_x[tr:]\n",
    "y_tr = data_y[0:tr]\n",
    "y_ts = data_y[tr:]\n",
    "\n",
    "y_tr_avg = sum(y_tr)/len(y_tr)\n",
    "x_tr_avg = sum(x_tr)/len(x_tr)\n",
    "y_ts_avg = sum(y_ts)/len(y_ts)    "
   ]
  },
  {
   "cell_type": "code",
   "execution_count": 8,
   "metadata": {},
   "outputs": [],
   "source": [
    "def find_w1(data_x_tr,data_y_tr,x_tr_avg,y_tr_avg):\n",
    "    head = (data_y_tr-y_tr_avg)*(data_x_tr - x_tr_avg)\n",
    "    bot = (data_x_tr-x_tr_avg)**2\n",
    "    return head, bot\n",
    "def find_w0(x_avg,y_avg,w1):\n",
    "    w0 = y_avg-(w1*x_avg)\n",
    "    return w0\n",
    "def test(x_ts,w1,w0):\n",
    "    y = w1*x_ts + w0\n",
    "    return y"
   ]
  },
  {
   "cell_type": "code",
   "execution_count": 9,
   "metadata": {},
   "outputs": [],
   "source": [
    "head_bot=[]\n",
    "h=0\n",
    "b=0\n",
    "for i in range(0,len(x_tr)):\n",
    "    head_bot.append(find_w1(x_tr[i],y_tr[i],x_tr_avg,y_tr_avg))\n",
    "    h+=head_bot[i][0]\n",
    "    b+=head_bot[i][1]\n",
    "w1=h/b\n",
    "w0=find_w0(x_tr_avg,y_tr_avg,w1)"
   ]
  },
  {
   "cell_type": "code",
   "execution_count": 10,
   "metadata": {},
   "outputs": [
    {
     "data": {
      "text/plain": [
       "2939.302507857567"
      ]
     },
     "execution_count": 10,
     "metadata": {},
     "output_type": "execute_result"
    }
   ],
   "source": [
    "result = []\n",
    "r = 0\n",
    "for i in range(0,len(x_ts)):\n",
    "    result.append(test(x_ts[i],w1,w0))\n",
    "    r += (result[i]-y_ts_avg)**2\n",
    "\n",
    "y0 = r / len(result) \n",
    "y0"
   ]
  },
  {
   "cell_type": "code",
   "execution_count": null,
   "metadata": {},
   "outputs": [],
   "source": []
  }
 ],
 "metadata": {
  "kernelspec": {
   "display_name": "Python 3 (ipykernel)",
   "language": "python",
   "name": "python3"
  },
  "language_info": {
   "codemirror_mode": {
    "name": "ipython",
    "version": 3
   },
   "file_extension": ".py",
   "mimetype": "text/x-python",
   "name": "python",
   "nbconvert_exporter": "python",
   "pygments_lexer": "ipython3",
   "version": "3.11.0"
  }
 },
 "nbformat": 4,
 "nbformat_minor": 2
}
