{
 "cells": [
  {
   "cell_type": "code",
   "execution_count": 8,
   "metadata": {
    "scrolled": true
   },
   "outputs": [
    {
     "data": {
      "text/plain": [
       "100"
      ]
     },
     "execution_count": 8,
     "metadata": {},
     "output_type": "execute_result"
    }
   ],
   "source": [
    "a=list(range(0,101))\n",
    "max(a)"
   ]
  },
  {
   "cell_type": "code",
   "execution_count": 9,
   "metadata": {},
   "outputs": [
    {
     "name": "stdout",
     "output_type": "stream",
     "text": [
      "0.43\n",
      "0.429\n"
     ]
    }
   ],
   "source": [
    "a=3/7\n",
    "print(round(a,2))\n",
    "print(round(a,3))"
   ]
  },
  {
   "cell_type": "code",
   "execution_count": 16,
   "metadata": {},
   "outputs": [
    {
     "name": "stdout",
     "output_type": "stream",
     "text": [
      "a는 4461.71이고, b는 0.38이고, c는 0.33 입니다.\n"
     ]
    }
   ],
   "source": [
    "a = 31232/7\n",
    "b = 3/8\n",
    "c = 3/9\n",
    "print(\"a는 %.2f이고, b는 %.2f이고, c는 %.2f 입니다.\"%(a,b,c))"
   ]
  },
  {
   "cell_type": "code",
   "execution_count": 25,
   "metadata": {},
   "outputs": [
    {
     "name": "stdout",
     "output_type": "stream",
     "text": [
      "a는 4461.71이고, b는 0.4 이고, c는 0.333 입니다.\n"
     ]
    }
   ],
   "source": [
    "a = 31232/7\n",
    "b = 3/8\n",
    "c = 3/9\n",
    "print(\"a는 {:.2f}이고, b는 {:.1f} 이고, c는 {:.3f} 입니다.\".format(a,b,c))"
   ]
  },
  {
   "cell_type": "code",
   "execution_count": null,
   "metadata": {},
   "outputs": [],
   "source": [
    "a1 = 3.14195\n",
    "a2 = 3.14195\n",
    "a3 = 3.14195\n",
    "a4 = 3.14195\n",
    "a5 = 3.14195\n",
    "print(\"a1은 {:.5f}이고, a2는 \")"
   ]
  }
 ],
 "metadata": {
  "kernelspec": {
   "display_name": "Python 3 (ipykernel)",
   "language": "python",
   "name": "python3"
  },
  "language_info": {
   "codemirror_mode": {
    "name": "ipython",
    "version": 3
   },
   "file_extension": ".py",
   "mimetype": "text/x-python",
   "name": "python",
   "nbconvert_exporter": "python",
   "pygments_lexer": "ipython3",
   "version": "3.11.0"
  }
 },
 "nbformat": 4,
 "nbformat_minor": 2
}
