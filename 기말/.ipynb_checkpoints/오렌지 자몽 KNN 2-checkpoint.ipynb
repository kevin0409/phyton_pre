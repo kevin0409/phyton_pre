{
 "cells": [
  {
   "cell_type": "code",
   "execution_count": null,
   "id": "bb5d34ea",
   "metadata": {},
   "outputs": [],
   "source": [
    "import pandas as pd\n",
    "import numpy as np\n",
    "import math\n",
    "data = pd.read_csv('./citrus.csv')\n",
    "data"
   ]
  },
  {
   "cell_type": "code",
   "execution_count": 24,
   "id": "64794607",
   "metadata": {},
   "outputs": [],
   "source": [
    "class KNN():\n",
    "\n",
    "    def split(self,data, p = 0.75):\n",
    "        \n",
    "        x_tr = []\n",
    "        x_ts = []\n",
    "        y_tr = []\n",
    "        y_ts = []\n",
    "        \n",
    "        tr_data = data.sample(frac = p, random_state = 100)\n",
    "        ts_data = data.drop(tr_data.index)\n",
    "        train = tr_data.values\n",
    "        test = ts_data.values\n",
    "        \n",
    "        for i in range(len(tr_data)):\n",
    "            x_tr.append(train[i][1:])\n",
    "            y_tr.append(train[i][0])\n",
    "        \n",
    "        for i in range(len(ts_data)):\n",
    "            x_ts.append(test[i][1:])\n",
    "            y_ts.append(test[i][0])\n",
    "        \n",
    "        self.x_tr = np.array(x_tr)\n",
    "        self.y_tr = np.array(y_tr)\n",
    "        self.x_ts = np.array(x_ts)\n",
    "        self.y_ts = np.array(y_ts)\n",
    "        \n",
    "    def euclidean_distance(self, k):\n",
    "        size = len(self.x_ts)\n",
    "        class_result = []\n",
    "        for i in range(0,size):\n",
    "            df = self.x_tr[i] - self.x_ts[i]\n",
    "            df = np.math.pow(df,2)\n",
    "            class_result.append(np.math.sqrt(df))\n",
    "    \n",
    "        return class_result[:k]\n",
    "        "
   ]
  },
  {
   "cell_type": "code",
   "execution_count": 25,
   "id": "a3609f9f",
   "metadata": {},
   "outputs": [],
   "source": [
    "a = KNN()\n",
    "a.split(data)"
   ]
  },
  {
   "cell_type": "code",
   "execution_count": 26,
   "id": "b95f88c8",
   "metadata": {},
   "outputs": [
    {
     "ename": "TypeError",
     "evalue": "only size-1 arrays can be converted to Python scalars",
     "output_type": "error",
     "traceback": [
      "\u001b[0;31m---------------------------------------------------------------------------\u001b[0m",
      "\u001b[0;31mTypeError\u001b[0m                                 Traceback (most recent call last)",
      "Input \u001b[0;32mIn [26]\u001b[0m, in \u001b[0;36m<cell line: 1>\u001b[0;34m()\u001b[0m\n\u001b[0;32m----> 1\u001b[0m result\u001b[38;5;241m=\u001b[39m\u001b[43ma\u001b[49m\u001b[38;5;241;43m.\u001b[39;49m\u001b[43meuclidean_distance\u001b[49m\u001b[43m(\u001b[49m\u001b[38;5;241;43m3\u001b[39;49m\u001b[43m)\u001b[49m\n",
      "Input \u001b[0;32mIn [24]\u001b[0m, in \u001b[0;36mKNN.euclidean_distance\u001b[0;34m(self, k)\u001b[0m\n\u001b[1;32m     36\u001b[0m \u001b[38;5;28;01mfor\u001b[39;00m i \u001b[38;5;129;01min\u001b[39;00m \u001b[38;5;28mrange\u001b[39m(\u001b[38;5;241m0\u001b[39m,size):\n\u001b[1;32m     37\u001b[0m     df \u001b[38;5;241m=\u001b[39m \u001b[38;5;28mself\u001b[39m\u001b[38;5;241m.\u001b[39mx_tr[i] \u001b[38;5;241m-\u001b[39m \u001b[38;5;28mself\u001b[39m\u001b[38;5;241m.\u001b[39mx_ts[i]\n\u001b[0;32m---> 38\u001b[0m     df \u001b[38;5;241m=\u001b[39m \u001b[43mnp\u001b[49m\u001b[38;5;241;43m.\u001b[39;49m\u001b[43mmath\u001b[49m\u001b[38;5;241;43m.\u001b[39;49m\u001b[43mpow\u001b[49m\u001b[43m(\u001b[49m\u001b[43mdf\u001b[49m\u001b[43m,\u001b[49m\u001b[38;5;241;43m2\u001b[39;49m\u001b[43m)\u001b[49m\n\u001b[1;32m     39\u001b[0m     class_result\u001b[38;5;241m.\u001b[39mappend(np\u001b[38;5;241m.\u001b[39mmath\u001b[38;5;241m.\u001b[39msqrt(df))\n\u001b[1;32m     41\u001b[0m \u001b[38;5;28;01mreturn\u001b[39;00m class_result[:k]\n",
      "\u001b[0;31mTypeError\u001b[0m: only size-1 arrays can be converted to Python scalars"
     ]
    }
   ],
   "source": [
    "result=a.euclidean_distance(3)"
   ]
  },
  {
   "cell_type": "code",
   "execution_count": null,
   "id": "6c841d31",
   "metadata": {},
   "outputs": [],
   "source": []
  }
 ],
 "metadata": {
  "kernelspec": {
   "display_name": "Python 3 (ipykernel)",
   "language": "python",
   "name": "python3"
  },
  "language_info": {
   "codemirror_mode": {
    "name": "ipython",
    "version": 3
   },
   "file_extension": ".py",
   "mimetype": "text/x-python",
   "name": "python",
   "nbconvert_exporter": "python",
   "pygments_lexer": "ipython3",
   "version": "3.9.10+"
  }
 },
 "nbformat": 4,
 "nbformat_minor": 5
}
