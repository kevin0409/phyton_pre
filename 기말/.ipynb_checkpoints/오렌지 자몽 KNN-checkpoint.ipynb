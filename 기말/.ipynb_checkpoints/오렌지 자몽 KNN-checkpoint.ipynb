{
 "cells": [
  {
   "cell_type": "code",
   "execution_count": null,
   "id": "71d978ae",
   "metadata": {},
   "outputs": [],
   "source": [
    "import pandas as pd\n",
    "import numpy as np\n",
    "data = pd.read_csv('./citrus.csv')\n",
    "data"
   ]
  },
  {
   "cell_type": "code",
   "execution_count": 35,
   "id": "9a8e6d0a",
   "metadata": {},
   "outputs": [],
   "source": [
    "class KNN():\n",
    "    def __init__(self, x_tr = 0,y_tr = 0, x_ts = 0, y_ts =0):\n",
    "        self.x_tr = x_tr\n",
    "        self.x_ts = x_ts\n",
    "        self.y_tr = y_tr\n",
    "        self.y_ts = y_ts\n",
    "        \n",
    "    def split(self,data, p = 0.75):\n",
    "        \n",
    "        x_tr = []\n",
    "        x_ts = []\n",
    "        y_tr = []\n",
    "        y_ts = []\n",
    "        \n",
    "        tr_data = data.sample(frac = p, random_state = 100)\n",
    "        ts_data = data.drop(tr_data.index)\n",
    "        train = tr_data.values\n",
    "        test = ts_data.values\n",
    "        \n",
    "        for i in range(len(tr_data)):\n",
    "            x_tr.append(train[i][1:])\n",
    "            y_tr.append(train[i][0])\n",
    "        \n",
    "        for i in range(len(ts_data)):\n",
    "            x_ts.append(test[i][1:])\n",
    "            y_ts.append(test[i][0])\n",
    "        \n",
    "        self.x_tr = np.array(x_tr)\n",
    "        self.y_tr = np.array(y_tr)\n",
    "        self.x_ts = np.array(x_ts)\n",
    "        self.y_ts = np.array(y_ts)\n",
    "        \n",
    "    def euclidean_distance(self, k):\n",
    "        size = len(self.x_ts)\n",
    "        class_result = []\n",
    "        for i in range(0,size):\n",
    "            df = self.x_tr - self.x_ts[i]\n",
    "            df = df**2\n",
    "            class_result.append(np.sqrt())\n",
    "        "
   ]
  },
  {
   "cell_type": "code",
   "execution_count": 36,
   "id": "02dea24a",
   "metadata": {},
   "outputs": [],
   "source": [
    "a = KNN()\n",
    "a.split(data)"
   ]
  },
  {
   "cell_type": "code",
   "execution_count": null,
   "id": "578c1723",
   "metadata": {},
   "outputs": [],
   "source": []
  }
 ],
 "metadata": {
  "kernelspec": {
   "display_name": "Python 3 (ipykernel)",
   "language": "python",
   "name": "python3"
  },
  "language_info": {
   "codemirror_mode": {
    "name": "ipython",
    "version": 3
   },
   "file_extension": ".py",
   "mimetype": "text/x-python",
   "name": "python",
   "nbconvert_exporter": "python",
   "pygments_lexer": "ipython3",
   "version": "3.9.10+"
  }
 },
 "nbformat": 4,
 "nbformat_minor": 5
}
