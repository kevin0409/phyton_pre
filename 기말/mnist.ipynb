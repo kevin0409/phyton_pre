{
 "cells": [
  {
   "cell_type": "code",
   "execution_count": 4,
   "metadata": {},
   "outputs": [],
   "source": [
    "import pandas as pd\n",
    "df_train = pd.read_csv('https://media.githubusercontent.com/media/hmkim312/datas/main/mnist/mnist_train.csv')\n",
    "df_test = pd.read_csv('https://media.githubusercontent.com/media/hmkim312/datas/main/mnist/mnist_test.csv')"
   ]
  },
  {
   "cell_type": "code",
   "execution_count": 6,
   "metadata": {},
   "outputs": [
    {
     "ename": "IndentationError",
     "evalue": "unexpected indent (2349865959.py, line 3)",
     "output_type": "error",
     "traceback": [
      "\u001b[0;36m  Cell \u001b[0;32mIn [6], line 3\u001b[0;36m\u001b[0m\n\u001b[0;31m    x_train = np.array(df_train.iloc[:,1:])\u001b[0m\n\u001b[0m    ^\u001b[0m\n\u001b[0;31mIndentationError\u001b[0m\u001b[0;31m:\u001b[0m unexpected indent\n"
     ]
    }
   ],
   "source": [
    "import numpy as np\n",
    "\n",
    "    x_train = np.array(df_train.iloc[:,1:])\n",
    "    y_train = np.array(df_train['label'])\n",
    "\n",
    "    x_test = np.array(df_test.iloc[:,1:])\n",
    "    y_test = np.array(df_test['label'])"
   ]
  },
  {
   "cell_type": "code",
   "execution_count": null,
   "metadata": {},
   "outputs": [],
   "source": [
    "import random\n",
    "import matplotlib.pyplot as plt\n",
    "\n",
    "samples = random.choices(population = range(0, 60000), k = 16)\n",
    "plt.figure(figsize = (14,12))\n",
    "\n",
    "for idx, n in enumerate(samples):\n",
    "    plt.subplot(4,4,idx+1)\n",
    "    plt.imshow(x_train[n].reshape(28,28),\n",
    "              cmap = 'Greys', interpolation = 'nearest')\n",
    "    plt.title(y_train[n])\n",
    "plt.show()    \n"
   ]
  },
  {
   "cell_type": "code",
   "execution_count": null,
   "metadata": {},
   "outputs": [],
   "source": [
    "def distance1(x,y):\n",
    "    return np.sum(np.square(x-y))\n",
    "\n",
    "def distance2(x,y):\n",
    "    return np.sqrt(np.sum(np.square(x-y)))\n",
    "\n",
    "def distance3(x,y):\n",
    "    return np.linalg.norm(x-y)\n",
    "\n",
    "def knn(x, k, data, label):\n",
    "    distances = [distance1(x,data[i]) for i in range(len(data))]\n",
    "    \n",
    "    idx = np.argpartition(distances, k)\n",
    "    clas, freq = np.unique(label[idx[:k]], return_counts = True)\n",
    "    \n",
    "    return clas[np.argmax(freq)]\n",
    "    "
   ]
  },
  {
   "cell_type": "code",
   "execution_count": 27,
   "metadata": {},
   "outputs": [
    {
     "name": "stdout",
     "output_type": "stream",
     "text": [
      "예측값 :  3 실제값 :  3\n"
     ]
    }
   ],
   "source": [
    "i = 524\n",
    "print('예측값 : ', knn(x_test[i],3,x_train,y_train), '실제값 : ', y_test[i])"
   ]
  },
  {
   "cell_type": "code",
   "execution_count": null,
   "metadata": {},
   "outputs": [],
   "source": []
  }
 ],
 "metadata": {
  "kernelspec": {
   "display_name": "Python 3 (ipykernel)",
   "language": "python",
   "name": "python3"
  },
  "language_info": {
   "codemirror_mode": {
    "name": "ipython",
    "version": 3
   },
   "file_extension": ".py",
   "mimetype": "text/x-python",
   "name": "python",
   "nbconvert_exporter": "python",
   "pygments_lexer": "ipython3",
   "version": "3.11.0"
  }
 },
 "nbformat": 4,
 "nbformat_minor": 2
}
